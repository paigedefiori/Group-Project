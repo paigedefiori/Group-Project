{
 "cells": [
  {
   "cell_type": "markdown",
   "metadata": {},
   "source": [
    "# Household Income by ZIP code in NY\n",
    "By Paige DeFiori\n",
    "\n",
    "This notebook will unpack data from the ([table B19001](https://censusreporter.org/data/table/?table=B19001&geo_ids=860|04000US36)) on household income 2015-2019 in NY, further analyzed by ZIP code. The purpose is to see which areas in the city have the most levels of household income, which could realte to our final project as socioeconomic status is a factor for the levels of impacts COVID-19 has on different individuals, states and/or countries. This of course is based off of census data, therefore is just used to analyze one state while my parnter analyzes income levels LA. *Since there are so many more areas in the state of NY than the city of LA (which my partner is using), I will eventually reduce the scope of the income brackets to be below \\\\$50,000 dollars and above \\\\$150,000 dollars to minimize data comparison, as well as have more drastic comparison to the US average household income of \\\\$68,703.*"
   ]
  },
  {
   "cell_type": "markdown",
   "metadata": {},
   "source": [
    "## Establish Libraries"
   ]
  },
  {
   "cell_type": "code",
   "execution_count": null,
   "metadata": {},
   "outputs": [],
   "source": [
    "import pandas as pd\n",
    "\n",
    "import geopandas as gpd\n",
    "\n",
    "import contextily as ctx\n",
    "\n",
    "import matplotlib.pyplot as plt"
   ]
  },
  {
   "cell_type": "markdown",
   "metadata": {},
   "source": [
    "## Importing Data"
   ]
  },
  {
   "cell_type": "markdown",
   "metadata": {},
   "source": [
    "Importing the data and running a few commands to see the depth of the dataset:"
   ]
  },
  {
   "cell_type": "code",
   "execution_count": null,
   "metadata": {},
   "outputs": [],
   "source": [
    "gdf = gpd.read_file('data/acs2019_5yr_B19001_86000US12120.geojson')"
   ]
  },
  {
   "cell_type": "markdown",
   "metadata": {},
   "source": [
    "`shape` will show the rows & columns, so I can see the size of the data more clearly"
   ]
  },
  {
   "cell_type": "code",
   "execution_count": null,
   "metadata": {},
   "outputs": [],
   "source": [
    "gdf.shape"
   ]
  },
  {
   "cell_type": "code",
   "execution_count": null,
   "metadata": {},
   "outputs": [],
   "source": [
    "gdf.head()"
   ]
  },
  {
   "cell_type": "markdown",
   "metadata": {},
   "source": [
    "## Plotting and Visualizing the Data"
   ]
  },
  {
   "cell_type": "markdown",
   "metadata": {},
   "source": [
    "`.plot()` command to visualize the data. It should show the state of NY sperated by ZIP codes."
   ]
  },
  {
   "cell_type": "code",
   "execution_count": null,
   "metadata": {},
   "outputs": [],
   "source": [
    "gdf.plot(figsize=(10,10))"
   ]
  },
  {
   "cell_type": "markdown",
   "metadata": {},
   "source": [
    "The `set_option` command to reveal all of the data, instead of abbreviated columns."
   ]
  },
  {
   "cell_type": "code",
   "execution_count": null,
   "metadata": {},
   "outputs": [],
   "source": [
    "pd.set_option('display.max_columns', None)\n",
    "pd.set_option('display.max_rows', None)"
   ]
  },
  {
   "cell_type": "markdown",
   "metadata": {},
   "source": [
    "`.info()` will now view all the data types"
   ]
  },
  {
   "cell_type": "code",
   "execution_count": null,
   "metadata": {},
   "outputs": [],
   "source": [
    "gdf.info()"
   ]
  },
  {
   "cell_type": "markdown",
   "metadata": {},
   "source": [
    "The columns are pretty unclear based off `.head()`, so now I will rename the columns and cutting the dataset down to the income brackets specified in the intro:"
   ]
  },
  {
   "cell_type": "markdown",
   "metadata": {},
   "source": [
    "`list()` will show all column names as of now, for all of the data:"
   ]
  },
  {
   "cell_type": "code",
   "execution_count": null,
   "metadata": {},
   "outputs": [],
   "source": [
    "list(gdf)"
   ]
  },
  {
   "cell_type": "markdown",
   "metadata": {},
   "source": [
    "The cells below remove columns, based on the income cut offs noted in the introduction, as well as rename the columns to be properly labeled."
   ]
  },
  {
   "cell_type": "code",
   "execution_count": null,
   "metadata": {},
   "outputs": [],
   "source": [
    "columns_to_keep = [\n",
    " 'geoid', \n",
    " 'name', \n",
    " 'B19001001',\n",
    " 'B19001002',\n",
    " 'B19001003',\n",
    " 'B19001004',\n",
    " 'B19001005',\n",
    " 'B19001006',\n",
    " 'B19001007',\n",
    " 'B19001008',\n",
    " 'B19001009',\n",
    " 'B19001010',\n",
    " 'B19001016',\n",
    " 'B19001017',\n",
    " 'geometry']"
   ]
  },
  {
   "cell_type": "markdown",
   "metadata": {},
   "source": [
    "New columns are now assigned as the initial datase name for ease"
   ]
  },
  {
   "cell_type": "code",
   "execution_count": null,
   "metadata": {},
   "outputs": [],
   "source": [
    "gdf = gdf[columns_to_keep]"
   ]
  },
  {
   "cell_type": "markdown",
   "metadata": {},
   "source": [
    "`.columns` to rename the columns to the household income brackets:"
   ]
  },
  {
   "cell_type": "code",
   "execution_count": null,
   "metadata": {},
   "outputs": [],
   "source": [
    "gdf.columns = ['geoid',\n",
    " 'ZIP Code',\n",
    " 'Total',\n",
    " '< 10,000',\n",
    " '10,000 to 14,999',\n",
    " '15,000 to 19,999',\n",
    " '20,000 to 24,999',\n",
    " '25,000 to 29,999',\n",
    " '30,000 to 34,999',\n",
    " '35,000 to 39,999',\n",
    " '40,000 to 44,999',\n",
    " '45,000 to 49,999',\n",
    " '150,000 to 199,999',\n",
    " '200,000+',\n",
    " 'geometry']"
   ]
  },
  {
   "cell_type": "markdown",
   "metadata": {},
   "source": [
    "Use `.head()` to double-check that the columns are now properly renamed to their corresponding income values."
   ]
  },
  {
   "cell_type": "code",
   "execution_count": null,
   "metadata": {},
   "outputs": [],
   "source": [
    "gdf.head()"
   ]
  },
  {
   "cell_type": "markdown",
   "metadata": {},
   "source": [
    "## Plotting based on Income Brackets"
   ]
  },
  {
   "cell_type": "code",
   "execution_count": null,
   "metadata": {},
   "outputs": [],
   "source": [
    "gdf['200,000+'].plot.hist(bins=15)"
   ]
  },
  {
   "cell_type": "code",
   "execution_count": null,
   "metadata": {},
   "outputs": [],
   "source": [
    "gdf['< 10,000'].plot.hist(bins=15)"
   ]
  },
  {
   "cell_type": "markdown",
   "metadata": {},
   "source": [
    "These two histograms reveals that `<$10,000` frequency distribution is similar to that of the frequency of households with `>$200,000` income. Which shows they are both pretty extreme and possibly outliers."
   ]
  },
  {
   "cell_type": "markdown",
   "metadata": {},
   "source": [
    "`.sorted` in `decending` order will show me which ZIP code has the most households living in it, regardless of income bracket."
   ]
  },
  {
   "cell_type": "code",
   "execution_count": null,
   "metadata": {},
   "outputs": [],
   "source": [
    "gdf_sorted = gdf.sort_values(by='Total',ascending = False)"
   ]
  },
  {
   "cell_type": "code",
   "execution_count": null,
   "metadata": {},
   "outputs": [],
   "source": [
    "gdf_sorted[['geoid','Total']].head(10)"
   ]
  },
  {
   "cell_type": "markdown",
   "metadata": {},
   "source": [
    "Now plotting these top 10 most populated ZIP codes will reveal where they are in NY."
   ]
  },
  {
   "cell_type": "code",
   "execution_count": null,
   "metadata": {},
   "outputs": [],
   "source": [
    "gdf_sorted.head(10).plot()"
   ]
  },
  {
   "cell_type": "markdown",
   "metadata": {},
   "source": [
    "Now making it more colorized and specific:"
   ]
  },
  {
   "cell_type": "code",
   "execution_count": null,
   "metadata": {},
   "outputs": [],
   "source": [
    "gdf_sorted.head(10).plot(figsize=(10,10),column='Total',legend=True)"
   ]
  },
  {
   "cell_type": "markdown",
   "metadata": {},
   "source": [
    "The next processs is to delete the data that has 0 households in the `Total` column, as these are irrelevant."
   ]
  },
  {
   "cell_type": "code",
   "execution_count": null,
   "metadata": {
    "scrolled": false
   },
   "outputs": [],
   "source": [
    "gdf[gdf['Total']==0]"
   ]
  },
  {
   "cell_type": "markdown",
   "metadata": {},
   "source": [
    "Listed above, is the total ZIP codes with 0 households accounted for in 2015-2019. \n",
    "Below will remove thes ZIP codes from the main dataset:"
   ]
  },
  {
   "cell_type": "code",
   "execution_count": null,
   "metadata": {},
   "outputs": [],
   "source": [
    "gdf = gdf[gdf['Total']>0]"
   ]
  },
  {
   "cell_type": "code",
   "execution_count": null,
   "metadata": {},
   "outputs": [],
   "source": [
    "gdf[['geoid','Total']]"
   ]
  },
  {
   "cell_type": "markdown",
   "metadata": {},
   "source": [
    "The average US household income is $68,703. Below, I add columns by incomes `> the US average` and incomes `< the US average`."
   ]
  },
  {
   "cell_type": "code",
   "execution_count": null,
   "metadata": {},
   "outputs": [],
   "source": [
    "below_avg = gdf['< 10,000'] + gdf['10,000 to 14,999'] + gdf['15,000 to 19,999'] + gdf['20,000 to 24,999'] + gdf['25,000 to 29,999'] + gdf['30,000 to 34,999'] + gdf['35,000 to 39,999'] + gdf['40,000 to 44,999'] + gdf['45,000 to 49,999']\n",
    "above_avg = gdf['150,000 to 199,999'] + gdf['200,000+']"
   ]
  },
  {
   "cell_type": "code",
   "execution_count": null,
   "metadata": {},
   "outputs": [],
   "source": [
    "gdf['% below US Avg'] = below_avg/gdf['Total']*100\n",
    "gdf['% above US Avg'] = above_avg/gdf['Total']*100"
   ]
  },
  {
   "cell_type": "markdown",
   "metadata": {},
   "source": [
    "Now, there should be two columns added to the dataset for above and below the US avg, written as percentages for each ZIP code in the US."
   ]
  },
  {
   "cell_type": "code",
   "execution_count": null,
   "metadata": {},
   "outputs": [],
   "source": [
    "gdf.head()"
   ]
  },
  {
   "cell_type": "markdown",
   "metadata": {},
   "source": [
    "## Now to more directly visualize the differences in incomes:"
   ]
  },
  {
   "cell_type": "code",
   "execution_count": null,
   "metadata": {},
   "outputs": [],
   "source": [
    "# create the 1x2 subplots\n",
    "fig, axs = plt.subplots(1, 2, figsize=(25, 25))\n",
    "\n",
    "# name each subplot\n",
    "ax1, ax2 = axs\n",
    "\n",
    "# regular count map on the left\n",
    "gdf.plot(column='% below US Avg', \n",
    "            cmap='CMRmap', \n",
    "            scheme='equal_interval',\n",
    "            k=5, \n",
    "            edgecolor='white', \n",
    "            linewidth=0, \n",
    "            alpha=0.75, \n",
    "            ax=ax1, # this assigns the map to the subplot,\n",
    "            legend=True\n",
    "           )\n",
    "\n",
    "ax1.axis(\"off\")\n",
    "ax1.set_title(\"Percent of Household Incomes Below US Avg\")\n",
    "leg = ax1.get_legend()\n",
    "leg.set_bbox_to_anchor((0., 1, 0.2, 0.))\n",
    "ax1.get_legend().set_title('percent') \n",
    "\n",
    "# spatial lag map on the right\n",
    "gdf.plot(column='% above US Avg', \n",
    "            cmap='CMRmap', \n",
    "            scheme='equal_interval',\n",
    "            k=5, \n",
    "            edgecolor='white', \n",
    "            linewidth=0, \n",
    "            alpha=0.80, \n",
    "            ax=ax2, # this assigns the map to the subplot\n",
    "            legend=True\n",
    "           )\n",
    "ax2.axis(\"off\")\n",
    "ax2.set_title(\"Percent of Household Incomes Above US Avg\")\n",
    "leg = ax2.get_legend()\n",
    "leg.set_bbox_to_anchor((0., 1, 0.2, 0.))\n",
    "ax2.get_legend().set_title('percent') "
   ]
  },
  {
   "cell_type": "markdown",
   "metadata": {},
   "source": [
    "The comparison above shows that the most affluent households in NY live in areas near Westchester and Manhattan, whereas the below avg household income are located near Queens and Nassau. Most of the state's households rests in the below US avg category. Which can be compared to cases of death by COVID-19 to find a correlation, aided by [this Policio article](https://www.politico.com/states/new-york/city-hall/story/2020/05/18/poorest-nyc-neighborhoods-have-highest-death-rates-from-coronavirus-1284519)."
   ]
  },
  {
   "cell_type": "markdown",
   "metadata": {},
   "source": [
    "Just out of personal interest, and to confirm the areas specifed above, the plot below is the Top 500 ZIP codes in NY with household incomes \\\\$150,000 and above:"
   ]
  },
  {
   "cell_type": "code",
   "execution_count": null,
   "metadata": {},
   "outputs": [],
   "source": [
    "# create the 1x2 subplots\n",
    "fig, axs = plt.subplots(1, figsize=(11, 11))\n",
    "\n",
    "# name each subplot\n",
    "ax1 = axs\n",
    "gdf_new_sorted = gdf.sort_values(by='% above US Avg', ascending = False)\n",
    "gdf_new_sorted.head(500).plot(figsize=(10,10),\n",
    "                              column='Total',\n",
    "                              cmap='CMRmap', \n",
    "                              scheme='equal_interval',\n",
    "                              k=5,\n",
    "                              edgecolor='white', \n",
    "                              linewidth=0, \n",
    "                              alpha=0.75, \n",
    "                              ax=ax1, \n",
    "                              legend=True)\n",
    "\n",
    "ax1.set_title(\"Top 500 NY ZIP Codes with Household Incomes Above US Avg, in %\")\n",
    "ax1.axis(\"off\")\n",
    "leg = ax1.get_legend()\n",
    "ax1.get_legend().set_bbox_to_anchor((0., 0., 0.2, 0.2))\n",
    "ax1.get_legend().set_title('percent') "
   ]
  }
 ],
 "metadata": {
  "kernelspec": {
   "display_name": "Python 3",
   "language": "python",
   "name": "python3"
  },
  "language_info": {
   "codemirror_mode": {
    "name": "ipython",
    "version": 3
   },
   "file_extension": ".py",
   "mimetype": "text/x-python",
   "name": "python",
   "nbconvert_exporter": "python",
   "pygments_lexer": "ipython3",
   "version": "3.8.5"
  },
  "toc": {
   "base_numbering": 1,
   "nav_menu": {},
   "number_sections": true,
   "sideBar": true,
   "skip_h1_title": false,
   "title_cell": "Table of Contents",
   "title_sidebar": "Contents",
   "toc_cell": false,
   "toc_position": {},
   "toc_section_display": true,
   "toc_window_display": false
  }
 },
 "nbformat": 4,
 "nbformat_minor": 4
}
